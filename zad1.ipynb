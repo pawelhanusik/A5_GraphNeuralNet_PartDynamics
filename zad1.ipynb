{
 "cells": [
  {
   "cell_type": "markdown",
   "metadata": {},
   "source": [
    "# Wybrany model\n",
    "\n",
    "Wizualizacja:\n",
    "\n",
    "<video width=\"640\" height=\"360\" controls>\n",
    "  <source src=\"boids.mp4\" type=\"video/mp4\">\n",
    "</video>"
   ]
  },
  {
   "cell_type": "markdown",
   "metadata": {},
   "source": [
    "## Opis modelu:\n",
    "\n",
    "1. Dane boidów:\n",
    "    1. Każdy boid jest bytem o wymiarach 15x15.\n",
    "    1. Każdy porusza się z tą samą prędkością.\n",
    "    1. Każdy ma określoną pozycję (`pos`) oraz kąt (`a`).\n",
    "1. Ruch:\n",
    "    1. Każdy boid porusza się z zadaną prędkością w kierunku zadanego kąta (`a`).\n",
    "    1. Na podstawie poniższych reguł zmieniany jest kąt (`a`).\n",
    "1. Reguły (dla każdego boida):\n",
    "    1. Obliczana jest średnia pozycja (`avg_pos`) oraz średni kąt (`avg_a`) pobliskich boidów, czyli następujących:\n",
    "        - znajdujące się w oddaleniu o 180\n",
    "        - z nich wybieranych jest 7 najbliższych.\n",
    "    1. Jeśli:\n",
    "        1. Boid jest zbyt blisko innego boida (odległość < 8), to zmienia kąt na taki, który pozwoli mu najszybciej się oddalić.\n",
    "        1. abs(`avg_pos` - `pos`) < 90, to zmienia kąt na `avg_a`.\n",
    "        1. abs(`avg_pos` - `pos`) >= 90, to zmienia kąt na taki, który pozwoli mu najszybciej się zbliżyć do avg_pos.\n",
    "    1. Zmiana aktualnego kąta na ustalony powyżej następuje z prędkością `2.4` stopnia na klatkę.\n"
   ]
  },
  {
   "cell_type": "markdown",
   "metadata": {},
   "source": [
    "---\n",
    "\n",
    "# Zebrane dane\n",
    "\n",
    "Dane zostały zapisane w formacie binarnym. Pierwszy int to liczba boidów. Następnie dla każdej klatki zapisywane są 3 floaty dla każdego boida: x, y, a."
   ]
  }
 ],
 "metadata": {
  "language_info": {
   "name": "python"
  }
 },
 "nbformat": 4,
 "nbformat_minor": 2
}
